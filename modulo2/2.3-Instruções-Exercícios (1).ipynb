{
 "cells": [
  {
   "cell_type": "markdown",
   "metadata": {
    "id": "1pCTdOHonv5f"
   },
   "source": [
    "# Módulo 2\n",
    "\n",
    "## 2.3 Instruções e Expressões\n",
    "\n",
    "### Q1\n",
    "\n",
    "Faça um programa que armazene o valor de 20 reais de salário por hora de um trabalhador, e o número de 40 horas trabalhadas na semana. Com essas informações, calcule e imprima:\n",
    "- Salário semanal bruto\n",
    "- Valor descontado por semana INSS (10% do bruto)\n",
    "- Valor descontado por semana pelo sindicato (5% do bruto)\n",
    "- Salário semanal líquido (Bruto - Descontos)"
   ]
  },
  {
   "cell_type": "code",
   "execution_count": 4,
   "metadata": {
    "id": "hVbX0I97nj6M"
   },
   "outputs": [
    {
     "name": "stdout",
     "output_type": "stream",
     "text": [
      "O salário semanal bruto é R$ 800\n",
      "O valor descontado do INSS é R$ 80.0\n",
      "O valor descontado do sindicato é R$ 40.0\n",
      "O salário semanal líquido é R$ 680.0\n"
     ]
    }
   ],
   "source": [
    "horas = 40\n",
    "valor_por_hora = 20\n",
    "desconto_INSS = 0.1\n",
    "desconto_sindicato =0.05\n",
    "\n",
    "salario_bruto_semanal = horas * valor_por_hora\n",
    "descontado_INSS = salario_bruto_semanal * desconto_INSS\n",
    "descontado_sindicato = salario_bruto_semanal * desconto_sindicato\n",
    "\n",
    "salario_liquido_semanal = salario_bruto_semanal - descontado_INSS - descontado_sindicato\n",
    "\n",
    "print(\"O salário semanal bruto é R$\", salario_bruto_semanal)\n",
    "print(\"O valor descontado do INSS é R$\", descontado_INSS)\n",
    "print(\"O valor descontado do sindicato é R$\", descontado_sindicato)\n",
    "print(\"O salário semanal líquido é R$\", salario_liquido_semanal)\n",
    "\n"
   ]
  },
  {
   "cell_type": "markdown",
   "metadata": {
    "id": "pIxKX9J2oGZ1"
   },
   "source": [
    "### Q2\n",
    "\n",
    "Altere o programa anterior para a partir dos valores de horas trabalhadas por semana e salário por hora, calcular **em somente duas instruções**:\n",
    "- Salário semanal bruto\n",
    "- Salário semanal líquido com todos os descontos. Para a segunda instrução, realize todos os cálculos aritméticos em uma expressão composta.\n"
   ]
  },
  {
   "cell_type": "code",
   "execution_count": 5,
   "metadata": {
    "id": "pAHw9Xf9oGoi"
   },
   "outputs": [
    {
     "name": "stdout",
     "output_type": "stream",
     "text": [
      "Salário bruto semanal é R$ 800\n",
      "Salário líquido semanal é R$ 680.0\n"
     ]
    }
   ],
   "source": [
    "salario_bruto_semanal = 800\n",
    "descontos = 0.15\n",
    "\n",
    "salario_liquido_semanal = salario_bruto_semanal * (1-descontos)\n",
    "\n",
    "print(\"Salário bruto semanal é R$\", salario_bruto_semanal)\n",
    "print(\"Salário líquido semanal é R$\", salario_liquido_semanal)\n"
   ]
  },
  {
   "cell_type": "markdown",
   "metadata": {
    "id": "m8tlHRuWpBOB"
   },
   "source": [
    "### Q3\n",
    "\n",
    "Você está desenvolvendo um software de conversão de moeda e precisa calcular o valor equivalente em yuan chinês a partir de uma quantia em real. A taxa de câmbio é de 0.69 BRL (real) para 1 CNY (yuan). Escreva um programa que define em uma variável uma quantia em reais (BRL) e calcula o valor equivalente em yuan (CNY). Imprima o resultado."
   ]
  },
  {
   "cell_type": "code",
   "execution_count": 6,
   "metadata": {
    "id": "2bPw7uF6oeL9"
   },
   "outputs": [
    {
     "name": "stdout",
     "output_type": "stream",
     "text": [
      "O valor equivalente de 150 BRL em yuan chinês é de 103.49999999999999 CNY.\n"
     ]
    }
   ],
   "source": [
    "taxa_cambio = 0.69 \n",
    "quantia_em_reais = 150\n",
    "\n",
    "valor_em_yuan = quantia_em_reais * taxa_cambio\n",
    "\n",
    "print(\"O valor equivalente de\", quantia_em_reais, \"BRL em yuan chinês é de\", valor_em_yuan, \"CNY.\")\n"
   ]
  },
  {
   "cell_type": "markdown",
   "metadata": {
    "id": "-Na3ltDCp74A"
   },
   "source": [
    "### Q4\n",
    "\n",
    "Você é um treinador de corrida e deseja calcular a velocidade média que um atleta precisa manter para completar a Maratona Internacional de São Silvestre, que tem uma distância total de 42.195 km. A fórmula para calcular a velocidade média ($v\\_media$) é dada por $v\\_media = \\frac{distancia}{tempo}$ . Escreva um programa em Python para calcular a velocidade média necessária para completar a maratona em 3 horas.\n",
    "\n",
    "**Calcule e imprima o resultado em metros/segundo**, ou seja, converta a distância de quilômetros para metros ($metro = \\frac{km}{1000}$) e a velocidade de horas para segundos $(segundo = \\frac{hora}{3600})$."
   ]
  },
  {
   "cell_type": "code",
   "execution_count": 9,
   "metadata": {
    "id": "Bn6l8kcSrE4L"
   },
   "outputs": [
    {
     "name": "stdout",
     "output_type": "stream",
     "text": [
      "A velocidade média em km/h é 14.065\n",
      "A velocidade média em m/s é 50.634\n"
     ]
    }
   ],
   "source": [
    "distancia_km = 42.195\n",
    "tempo_h = 3\n",
    "velocidade_media_kmh = distancia / tempo\n",
    "print(\"A velocidade média em km/h é\", velocidade_media_kmh)\n",
    "\n",
    "distancia_m = distancia_km / 1000\n",
    "tempo_s = tempo_h / 3600\n",
    "velocidade_media_ms = distancia_m / tempo_s\n",
    "print(\"A velocidade média em m/s é\", velocidade_media_ms)\n",
    "\n"
   ]
  }
 ],
 "metadata": {
  "colab": {
   "provenance": []
  },
  "kernelspec": {
   "display_name": "Python 3 (ipykernel)",
   "language": "python",
   "name": "python3"
  },
  "language_info": {
   "codemirror_mode": {
    "name": "ipython",
    "version": 3
   },
   "file_extension": ".py",
   "mimetype": "text/x-python",
   "name": "python",
   "nbconvert_exporter": "python",
   "pygments_lexer": "ipython3",
   "version": "3.12.3"
  }
 },
 "nbformat": 4,
 "nbformat_minor": 4
}
